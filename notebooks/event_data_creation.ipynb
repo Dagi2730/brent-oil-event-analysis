{
 "cells": [
  {
   "cell_type": "code",
   "execution_count": 1,
   "id": "d3f89b6a",
   "metadata": {},
   "outputs": [],
   "source": [
    "import pandas as pd\n"
   ]
  },
  {
   "cell_type": "code",
   "execution_count": 2,
   "id": "18218c11",
   "metadata": {},
   "outputs": [
    {
     "data": {
      "text/html": [
       "<div>\n",
       "<style scoped>\n",
       "    .dataframe tbody tr th:only-of-type {\n",
       "        vertical-align: middle;\n",
       "    }\n",
       "\n",
       "    .dataframe tbody tr th {\n",
       "        vertical-align: top;\n",
       "    }\n",
       "\n",
       "    .dataframe thead th {\n",
       "        text-align: right;\n",
       "    }\n",
       "</style>\n",
       "<table border=\"1\" class=\"dataframe\">\n",
       "  <thead>\n",
       "    <tr style=\"text-align: right;\">\n",
       "      <th></th>\n",
       "      <th>Date</th>\n",
       "      <th>Event</th>\n",
       "      <th>Type</th>\n",
       "      <th>Description</th>\n",
       "      <th>Source</th>\n",
       "    </tr>\n",
       "  </thead>\n",
       "  <tbody>\n",
       "    <tr>\n",
       "      <th>0</th>\n",
       "      <td>1990-08-02</td>\n",
       "      <td>Iraq invades Kuwait</td>\n",
       "      <td>Geopolitical</td>\n",
       "      <td>Triggered Gulf War; oil prices spiked.</td>\n",
       "      <td>https://en.wikipedia.org/wiki/Gulf_War</td>\n",
       "    </tr>\n",
       "    <tr>\n",
       "      <th>1</th>\n",
       "      <td>2008-09-15</td>\n",
       "      <td>Lehman Brothers bankruptcy</td>\n",
       "      <td>Economic</td>\n",
       "      <td>Global financial crisis; sharp drop in oil dem...</td>\n",
       "      <td>https://www.imf.org/en/Publications/WEO</td>\n",
       "    </tr>\n",
       "    <tr>\n",
       "      <th>2</th>\n",
       "      <td>2020-03-11</td>\n",
       "      <td>WHO declares COVID-19 pandemic</td>\n",
       "      <td>Health</td>\n",
       "      <td>Massive global lockdown; oil demand collapses.</td>\n",
       "      <td>https://www.who.int/</td>\n",
       "    </tr>\n",
       "    <tr>\n",
       "      <th>3</th>\n",
       "      <td>2022-02-24</td>\n",
       "      <td>Russia invades Ukraine</td>\n",
       "      <td>Geopolitical</td>\n",
       "      <td>Disruption of oil supply from Russia; price sh...</td>\n",
       "      <td>https://www.reuters.com</td>\n",
       "    </tr>\n",
       "  </tbody>\n",
       "</table>\n",
       "</div>"
      ],
      "text/plain": [
       "         Date                           Event          Type  \\\n",
       "0  1990-08-02             Iraq invades Kuwait  Geopolitical   \n",
       "1  2008-09-15      Lehman Brothers bankruptcy      Economic   \n",
       "2  2020-03-11  WHO declares COVID-19 pandemic        Health   \n",
       "3  2022-02-24          Russia invades Ukraine  Geopolitical   \n",
       "\n",
       "                                         Description  \\\n",
       "0             Triggered Gulf War; oil prices spiked.   \n",
       "1  Global financial crisis; sharp drop in oil dem...   \n",
       "2     Massive global lockdown; oil demand collapses.   \n",
       "3  Disruption of oil supply from Russia; price sh...   \n",
       "\n",
       "                                    Source  \n",
       "0   https://en.wikipedia.org/wiki/Gulf_War  \n",
       "1  https://www.imf.org/en/Publications/WEO  \n",
       "2                     https://www.who.int/  \n",
       "3                  https://www.reuters.com  "
      ]
     },
     "execution_count": 2,
     "metadata": {},
     "output_type": "execute_result"
    }
   ],
   "source": [
    "# List of key events that impacted oil prices\n",
    "events = [\n",
    "    {\n",
    "        \"Date\": \"1990-08-02\",\n",
    "        \"Event\": \"Iraq invades Kuwait\",\n",
    "        \"Type\": \"Geopolitical\",\n",
    "        \"Description\": \"Triggered Gulf War; oil prices spiked.\",\n",
    "        \"Source\": \"https://en.wikipedia.org/wiki/Gulf_War\"\n",
    "    },\n",
    "    {\n",
    "        \"Date\": \"2008-09-15\",\n",
    "        \"Event\": \"Lehman Brothers bankruptcy\",\n",
    "        \"Type\": \"Economic\",\n",
    "        \"Description\": \"Global financial crisis; sharp drop in oil demand/prices.\",\n",
    "        \"Source\": \"https://www.imf.org/en/Publications/WEO\"\n",
    "    },\n",
    "    {\n",
    "        \"Date\": \"2020-03-11\",\n",
    "        \"Event\": \"WHO declares COVID-19 pandemic\",\n",
    "        \"Type\": \"Health\",\n",
    "        \"Description\": \"Massive global lockdown; oil demand collapses.\",\n",
    "        \"Source\": \"https://www.who.int/\"\n",
    "    },\n",
    "    {\n",
    "        \"Date\": \"2022-02-24\",\n",
    "        \"Event\": \"Russia invades Ukraine\",\n",
    "        \"Type\": \"Geopolitical\",\n",
    "        \"Description\": \"Disruption of oil supply from Russia; price shock.\",\n",
    "        \"Source\": \"https://www.reuters.com\"\n",
    "    }\n",
    "]\n",
    "\n",
    "events_df = pd.DataFrame(events)\n",
    "events_df.head()\n"
   ]
  },
  {
   "cell_type": "code",
   "execution_count": 3,
   "id": "43f01469",
   "metadata": {},
   "outputs": [],
   "source": [
    "events_df.to_csv(\"../data/oil_market_events.csv\", index=False)\n"
   ]
  }
 ],
 "metadata": {
  "kernelspec": {
   "display_name": "Python 3",
   "language": "python",
   "name": "python3"
  },
  "language_info": {
   "codemirror_mode": {
    "name": "ipython",
    "version": 3
   },
   "file_extension": ".py",
   "mimetype": "text/x-python",
   "name": "python",
   "nbconvert_exporter": "python",
   "pygments_lexer": "ipython3",
   "version": "3.9.13"
  }
 },
 "nbformat": 4,
 "nbformat_minor": 5
}
